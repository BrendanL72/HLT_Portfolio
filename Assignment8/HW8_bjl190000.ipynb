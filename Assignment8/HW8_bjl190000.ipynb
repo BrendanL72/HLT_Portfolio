{
 "cells": [
  {
   "cell_type": "markdown",
   "metadata": {},
   "source": [
    "# Text Classification with Machine Learning\n",
    "CS4395.001 Homework #8\n",
    "\n",
    "Brendan Lim"
   ]
  },
  {
   "cell_type": "code",
   "execution_count": 64,
   "metadata": {},
   "outputs": [],
   "source": [
    "import pandas as pd\n",
    "import numpy as np\n",
    "\n",
    "#preprocessing\n",
    "from sklearn.model_selection import train_test_split\n",
    "from sklearn import preprocessing\n",
    "from nltk.corpus import stopwords\n",
    "from sklearn.feature_extraction.text import TfidfVectorizer\n",
    "\n",
    "#models\n",
    "from sklearn.naive_bayes import MultinomialNB\n",
    "from sklearn.linear_model._logistic import LogisticRegression\n",
    "from sklearn.neural_network import MLPClassifier\n",
    "\n",
    "#metrics\n",
    "from sklearn.metrics import classification_report\n",
    "import matplotlib.pyplot as plt"
   ]
  },
  {
   "cell_type": "markdown",
   "metadata": {},
   "source": [
    "## Clickbait Dataset\n",
    "This clickbait dataset is comprised of two files exclusively containing 16,000 clickbait and regular headlines each. The clickbait headlines were scraped from sites such as Buzzfeed or Scoopwhoop. Non-clickbait headlines were gathered from sites like the New York Times or the Guardian.\n",
    "\n",
    "The trained model is expected to do binary classification between clickbait or not.\n",
    "\n",
    "### Citation and Link:\n",
    "Abhijnan Chakraborty, Bhargavi Paranjape, Sourya Kakarla, and Niloy Ganguly. \"Stop Clickbait: Detecting and Preventing Clickbaits in Online News Media”. In Proceedings of the 2016 IEEE/ACM International Conference on Advances in Social Networks Analysis and Mining (ASONAM), San Fransisco[sic], US, August 2016.\n",
    "\n",
    "https://github.com/bhargaviparanjape/clickbait"
   ]
  },
  {
   "cell_type": "code",
   "execution_count": 65,
   "metadata": {},
   "outputs": [
    {
     "name": "stdout",
     "output_type": "stream",
     "text": [
      "15999\n",
      "16001\n",
      "Should I Get Bings\n",
      "Bill Changing Credit Card Rules Is Sent to Obama With Gun Measure Included\n"
     ]
    }
   ],
   "source": [
    "#importing the data\n",
    "data_path = \"./dataset/\"\n",
    "\n",
    "clickbait_headlines = []\n",
    "with open(data_path + \"clickbait_data\", 'r', encoding='utf-8') as f_handle:\n",
    "   for line in f_handle:\n",
    "      if not line.isspace():\n",
    "         clickbait_headlines.append(line.rstrip())\n",
    "\n",
    "non_clickbait = []\n",
    "with open(data_path + \"non_clickbait_data\", 'r', encoding='utf-8') as f_handle:\n",
    "   for line in f_handle:\n",
    "      if not line.isspace():\n",
    "         non_clickbait.append(line.rstrip())\n",
    "\n",
    "print(len(clickbait_headlines))\n",
    "print(len(non_clickbait))\n",
    "\n",
    "print(clickbait_headlines[0])\n",
    "print(non_clickbait[0])"
   ]
  },
  {
   "cell_type": "code",
   "execution_count": 78,
   "metadata": {},
   "outputs": [
    {
     "name": "stderr",
     "output_type": "stream",
     "text": [
      "C:\\Users\\blim5\\AppData\\Local\\Temp\\ipykernel_17508\\3305075031.py:9: FutureWarning: The frame.append method is deprecated and will be removed from pandas in a future version. Use pandas.concat instead.\n",
      "  clickbait_df.append(non_clickbait_df)\n"
     ]
    },
    {
     "data": {
      "text/html": [
       "<div>\n",
       "<style scoped>\n",
       "    .dataframe tbody tr th:only-of-type {\n",
       "        vertical-align: middle;\n",
       "    }\n",
       "\n",
       "    .dataframe tbody tr th {\n",
       "        vertical-align: top;\n",
       "    }\n",
       "\n",
       "    .dataframe thead th {\n",
       "        text-align: right;\n",
       "    }\n",
       "</style>\n",
       "<table border=\"1\" class=\"dataframe\">\n",
       "  <thead>\n",
       "    <tr style=\"text-align: right;\">\n",
       "      <th></th>\n",
       "      <th>Headline</th>\n",
       "      <th>clickbait</th>\n",
       "    </tr>\n",
       "  </thead>\n",
       "  <tbody>\n",
       "    <tr>\n",
       "      <th>0</th>\n",
       "      <td>Should I Get Bings</td>\n",
       "      <td>1</td>\n",
       "    </tr>\n",
       "    <tr>\n",
       "      <th>1</th>\n",
       "      <td>Which TV Female Friend Group Do You Belong In</td>\n",
       "      <td>1</td>\n",
       "    </tr>\n",
       "    <tr>\n",
       "      <th>2</th>\n",
       "      <td>The New \"Star Wars: The Force Awakens\" Trailer...</td>\n",
       "      <td>1</td>\n",
       "    </tr>\n",
       "    <tr>\n",
       "      <th>3</th>\n",
       "      <td>This Vine Of New York On \"Celebrity Big Brothe...</td>\n",
       "      <td>1</td>\n",
       "    </tr>\n",
       "    <tr>\n",
       "      <th>4</th>\n",
       "      <td>A Couple Did A Stunning Photo Shoot With Their...</td>\n",
       "      <td>1</td>\n",
       "    </tr>\n",
       "    <tr>\n",
       "      <th>...</th>\n",
       "      <td>...</td>\n",
       "      <td>...</td>\n",
       "    </tr>\n",
       "    <tr>\n",
       "      <th>15996</th>\n",
       "      <td>To Make Female Hearts Flutter in Iraq, Throw a...</td>\n",
       "      <td>0</td>\n",
       "    </tr>\n",
       "    <tr>\n",
       "      <th>15997</th>\n",
       "      <td>British Liberal Democrat Patsy Calton, 56, die...</td>\n",
       "      <td>0</td>\n",
       "    </tr>\n",
       "    <tr>\n",
       "      <th>15998</th>\n",
       "      <td>Drone smartphone app to help heart attack vict...</td>\n",
       "      <td>0</td>\n",
       "    </tr>\n",
       "    <tr>\n",
       "      <th>15999</th>\n",
       "      <td>Netanyahu Urges Pope Benedict, in Israel, to D...</td>\n",
       "      <td>0</td>\n",
       "    </tr>\n",
       "    <tr>\n",
       "      <th>16000</th>\n",
       "      <td>Computer Makers Prepare to Stake Bigger Claim ...</td>\n",
       "      <td>0</td>\n",
       "    </tr>\n",
       "  </tbody>\n",
       "</table>\n",
       "<p>32000 rows × 2 columns</p>\n",
       "</div>"
      ],
      "text/plain": [
       "                                                Headline  clickbait\n",
       "0                                     Should I Get Bings          1\n",
       "1          Which TV Female Friend Group Do You Belong In          1\n",
       "2      The New \"Star Wars: The Force Awakens\" Trailer...          1\n",
       "3      This Vine Of New York On \"Celebrity Big Brothe...          1\n",
       "4      A Couple Did A Stunning Photo Shoot With Their...          1\n",
       "...                                                  ...        ...\n",
       "15996  To Make Female Hearts Flutter in Iraq, Throw a...          0\n",
       "15997  British Liberal Democrat Patsy Calton, 56, die...          0\n",
       "15998  Drone smartphone app to help heart attack vict...          0\n",
       "15999  Netanyahu Urges Pope Benedict, in Israel, to D...          0\n",
       "16000  Computer Makers Prepare to Stake Bigger Claim ...          0\n",
       "\n",
       "[32000 rows x 2 columns]"
      ]
     },
     "metadata": {},
     "output_type": "display_data"
    }
   ],
   "source": [
    "#formatting data into a pandas dataframe\n",
    "clickbait_df = pd.DataFrame(clickbait_headlines)\n",
    "clickbait_df['clickbait'] = 1\n",
    "\n",
    "non_clickbait_df = pd.DataFrame(non_clickbait)\n",
    "non_clickbait_df['clickbait'] = 0\n",
    "\n",
    "#couldn't get concat to work properly\n",
    "clickbait_df.append(non_clickbait_df)\n",
    "df = pd.concat([clickbait_df, non_clickbait_df], axis=0)\n",
    "df.columns = [\"Headline\", \"clickbait\"]\n",
    "\n",
    "display(df)"
   ]
  },
  {
   "cell_type": "markdown",
   "metadata": {},
   "source": [
    "### Visualization of Dataset Distribution"
   ]
  },
  {
   "cell_type": "code",
   "execution_count": 67,
   "metadata": {},
   "outputs": [
    {
     "data": {
      "text/plain": [
       "<AxesSubplot:>"
      ]
     },
     "execution_count": 67,
     "metadata": {},
     "output_type": "execute_result"
    },
    {
     "data": {
      "image/png": "[encoded data removed]",
      "text/plain": [
       "<Figure size 432x288 with 1 Axes>"
      ]
     },
     "metadata": {
      "needs_background": "light"
     },
     "output_type": "display_data"
    }
   ],
   "source": [
    "#wow\n",
    "df['clickbait'].value_counts().plot(kind='bar', color = ['b', 'r'])"
   ]
  },
  {
   "cell_type": "code",
   "execution_count": 68,
   "metadata": {},
   "outputs": [
    {
     "name": "stdout",
     "output_type": "stream",
     "text": [
      "(25600,)\n",
      "(6400,)\n"
     ]
    }
   ],
   "source": [
    "#going to use the same split for all model types\n",
    "x_train, x_test, y_train, y_test = train_test_split(df.Headline, df.clickbait, test_size=0.2, train_size=0.8, random_state=1111)\n",
    "\n",
    "print(x_train.shape)\n",
    "print(x_test.shape)"
   ]
  },
  {
   "cell_type": "code",
   "execution_count": 69,
   "metadata": {},
   "outputs": [
    {
     "name": "stdout",
     "output_type": "stream",
     "text": [
      "(25600, 20431)\n",
      "(6400, 20431)\n"
     ]
    }
   ],
   "source": [
    "#preprocessing words into a bag of words model\n",
    "sw = set(stopwords.words('english'))\n",
    "vect = TfidfVectorizer(stop_words=sw)\n",
    "\n",
    "V_train = vect.fit_transform(x_train)\n",
    "V_test = vect.transform(x_test)\n",
    "\n",
    "print(V_train.shape)\n",
    "print(V_test.shape)"
   ]
  },
  {
   "cell_type": "markdown",
   "metadata": {},
   "source": [
    "## Naive Bayes\n",
    "The Naive Bayes model performed the best "
   ]
  },
  {
   "cell_type": "code",
   "execution_count": 70,
   "metadata": {},
   "outputs": [
    {
     "name": "stdout",
     "output_type": "stream",
     "text": [
      "              precision    recall  f1-score   support\n",
      "\n",
      "           0       0.97      0.96      0.96      3149\n",
      "           1       0.96      0.97      0.96      3251\n",
      "\n",
      "    accuracy                           0.96      6400\n",
      "   macro avg       0.96      0.96      0.96      6400\n",
      "weighted avg       0.96      0.96      0.96      6400\n",
      "\n"
     ]
    }
   ],
   "source": [
    "#training the model\n",
    "nb = MultinomialNB()\n",
    "nb.fit(V_train, y_train)\n",
    "\n",
    "nb_pred = nb.predict(V_test)\n",
    "\n",
    "print(classification_report(y_test, nb_pred))"
   ]
  },
  {
   "cell_type": "markdown",
   "metadata": {},
   "source": [
    "## Logistic Regression\n",
    "Logistic Regression also does quite well, albeit a little worse than a Naive Bayes model. We can see with the lower precision and higher recall that this model that it favors calling things not clickbait."
   ]
  },
  {
   "cell_type": "code",
   "execution_count": 71,
   "metadata": {},
   "outputs": [
    {
     "name": "stdout",
     "output_type": "stream",
     "text": [
      "              precision    recall  f1-score   support\n",
      "\n",
      "           0       0.93      0.97      0.95      3149\n",
      "           1       0.97      0.93      0.95      3251\n",
      "\n",
      "    accuracy                           0.95      6400\n",
      "   macro avg       0.95      0.95      0.95      6400\n",
      "weighted avg       0.95      0.95      0.95      6400\n",
      "\n"
     ]
    }
   ],
   "source": [
    "lr = LogisticRegression(solver='liblinear', class_weight='balanced')\n",
    "lr.fit(V_train, y_train)\n",
    "\n",
    "lr_pred = lr.predict(V_test)\n",
    "\n",
    "print(classification_report(y_test, lr_pred))"
   ]
  },
  {
   "cell_type": "markdown",
   "metadata": {},
   "source": [
    "## Neural Network\n",
    "Neural networks did not perform as well as the other ML models in both performance and training time. The training time for a neural network was about 2.0s while the Naive-Bayes and Logistic Regression models took roughly 0.1s. We can see from the results that this neural network just guessed that everything was not clickbait (not very useful!) due to the high recall and low precision score."
   ]
  },
  {
   "cell_type": "code",
   "execution_count": 77,
   "metadata": {},
   "outputs": [
    {
     "name": "stdout",
     "output_type": "stream",
     "text": [
      "              precision    recall  f1-score   support\n",
      "\n",
      "           0       0.49      1.00      0.66      3149\n",
      "           1       0.00      0.00      0.00      3251\n",
      "\n",
      "    accuracy                           0.49      6400\n",
      "   macro avg       0.25      0.50      0.33      6400\n",
      "weighted avg       0.24      0.49      0.32      6400\n",
      "\n"
     ]
    }
   ],
   "source": [
    "nn = MLPClassifier(solver = 'lbfgs', hidden_layer_sizes=(30,2), random_state=1111)\n",
    "\n",
    "nn.fit(V_train, y_train)\n",
    "nn_pred = nn.predict(V_test)\n",
    "\n",
    "print(classification_report(y_test, nn_pred, zero_division=0))"
   ]
  },
  {
   "cell_type": "markdown",
   "metadata": {},
   "source": [
    "### Grid Search\n",
    "Grid Search is an ML methodology where you run each permutation of model given a range of hyperparameters to find the best model hyperparameters. However this requires the training of exponentially increasing amounts of models. The SciKit module for this allows you to immediately use the best model for testing and pickling, as well as various different metrics for determining which model is the best.\n",
    "\n",
    "Comparing this to the previous neural network, we see the importance of hyperparameter selection and activation function selection.\n",
    "\n",
    "I used the smaller test set to train these models since I'm training 27 models."
   ]
  },
  {
   "cell_type": "code",
   "execution_count": 73,
   "metadata": {},
   "outputs": [
    {
     "data": {
      "text/plain": [
       "GridSearchCV(cv=5, estimator=MLPClassifier(solver='lbfgs'), n_jobs=-1,\n",
       "             param_grid={'activation': ['logistic', 'tanh', 'relu'],\n",
       "                         'hidden_layer_sizes': [(10, 2), (20, 2), (30, 2),\n",
       "                                                (40, 2), (50, 2), (60, 2),\n",
       "                                                (70, 2), (80, 2), (90, 2)]})"
      ]
     },
     "execution_count": 73,
     "metadata": {},
     "output_type": "execute_result"
    }
   ],
   "source": [
    "from sklearn.model_selection import GridSearchCV\n",
    "\n",
    "nn = MLPClassifier(solver='lbfgs')\n",
    "# check each \n",
    "params = {\n",
    "    'hidden_layer_sizes' : [(x,2) for x in range(10,100,10)],\n",
    "    'activation' : ['logistic', 'tanh', 'relu']\n",
    "}\n",
    "gridsearch = GridSearchCV(nn, param_grid=params, n_jobs=-1, cv = 5)\n",
    "gridsearch.fit(V_test, y_test)"
   ]
  },
  {
   "cell_type": "code",
   "execution_count": 74,
   "metadata": {},
   "outputs": [
    {
     "name": "stdout",
     "output_type": "stream",
     "text": [
      "{'activation': 'tanh', 'hidden_layer_sizes': (80, 2)}\n"
     ]
    }
   ],
   "source": [
    "#get the parameters \n",
    "print(gridsearch.best_params_)"
   ]
  },
  {
   "cell_type": "code",
   "execution_count": 75,
   "metadata": {},
   "outputs": [
    {
     "name": "stdout",
     "output_type": "stream",
     "text": [
      "   param_activation  mean_test_score\n",
      "0          logistic         0.507969\n",
      "1          logistic         0.507969\n",
      "2          logistic         0.507969\n",
      "3          logistic         0.507969\n",
      "4          logistic         0.590000\n",
      "5          logistic         0.591406\n",
      "6          logistic         0.589063\n",
      "7          logistic         0.591250\n",
      "8          logistic         0.507969\n",
      "9              tanh         0.918750\n",
      "10             tanh         0.921719\n",
      "11             tanh         0.921250\n",
      "12             tanh         0.919844\n",
      "13             tanh         0.919375\n",
      "14             tanh         0.917969\n",
      "15             tanh         0.921406\n",
      "16             tanh         0.922500\n",
      "17             tanh         0.920469\n",
      "18             relu         0.755000\n",
      "19             relu         0.840312\n",
      "20             relu         0.674531\n",
      "21             relu         0.837812\n",
      "22             relu         0.671562\n",
      "23             relu         0.674531\n",
      "24             relu         0.672031\n",
      "25             relu         0.590781\n",
      "26             relu         0.755469\n"
     ]
    },
    {
     "data": {
      "image/png": "[encoded data removed]",
      "text/plain": [
       "<Figure size 432x288 with 1 Axes>"
      ]
     },
     "metadata": {
      "needs_background": "light"
     },
     "output_type": "display_data"
    }
   ],
   "source": [
    "#displaying grid search results\n",
    "gs_results = pd.DataFrame(gridsearch.cv_results_)\n",
    "\n",
    "filtered_results = gs_results.filter(items = [\"param_activation\",\"hidden_layer_sizes\",\"mean_test_score\"])\n",
    "\n",
    "print(filtered_results)\n",
    "\n",
    "#convert df to filtered dictionary\n",
    "activation_functions = ['logistic', 'tanh', 'relu']\n",
    "results_dict = {}\n",
    "\n",
    "for a in activation_functions:\n",
    "   results_dict[a] = filtered_results.loc[filtered_results[\"param_activation\"]  == a][\"mean_test_score\"]\n",
    "\n",
    "fig, ax = plt.subplots()\n",
    "\n",
    "bar_width = 0.2\n",
    "offset_mult = 0\n",
    "x_ticks = np.arange(9)\n",
    "\n",
    "#figure\n",
    "for a, m in results_dict.items():\n",
    "   offset = bar_width * offset_mult\n",
    "   bar = ax.bar(x_ticks + offset, [round(datum,2) for datum in m], bar_width, label=a)\n",
    "   ax.bar_label(bar, padding=3)\n",
    "   offset_mult += 1\n",
    "\n",
    "#axes\n",
    "ax.set_title(\"Performance by Activation Function and Hidden Layer Size\")\n",
    "ax.set_xlabel(\"Hidden Layer Sizes\")\n",
    "ax.set_ylabel(\"Mean F1 Score\")\n",
    "ax.set_xticks(ticks = x_ticks, labels = [str(l) for l in params[\"hidden_layer_sizes\"]])\n",
    "ax.legend(loc=(0,0))\n",
    "\n",
    "plt.show()\n"
   ]
  },
  {
   "cell_type": "code",
   "execution_count": 76,
   "metadata": {},
   "outputs": [
    {
     "name": "stdout",
     "output_type": "stream",
     "text": [
      "              precision    recall  f1-score   support\n",
      "\n",
      "           0       0.96      0.90      0.93     12852\n",
      "           1       0.90      0.96      0.93     12748\n",
      "\n",
      "    accuracy                           0.93     25600\n",
      "   macro avg       0.93      0.93      0.93     25600\n",
      "weighted avg       0.93      0.93      0.93     25600\n",
      "\n"
     ]
    }
   ],
   "source": [
    "#running the optimal model\n",
    "gs_pred = gridsearch.predict(V_train)\n",
    "\n",
    "print(classification_report(y_train,gs_pred))"
   ]
  }
 ],
 "metadata": {
  "kernelspec": {
   "display_name": "Python 3 (ipykernel)",
   "language": "python",
   "name": "python3"
  },
  "language_info": {
   "codemirror_mode": {
    "name": "ipython",
    "version": 3
   },
   "file_extension": ".py",
   "mimetype": "text/x-python",
   "name": "python",
   "nbconvert_exporter": "python",
   "pygments_lexer": "ipython3",
   "version": "3.9.13"
  },
  "vscode": {
   "interpreter": {
    "hash": "dc7c0481baace6a597cdc1b9f0de4445b935b38d9af22f80f4ce81dfadb25b97"
   }
  }
 },
 "nbformat": 4,
 "nbformat_minor": 2
}
