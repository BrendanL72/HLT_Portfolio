{
 "cells": [
  {
   "cell_type": "markdown",
   "metadata": {},
   "source": [
    "# Assignment 9: Text Classification with Deep Learning\n",
    "Brendan Lim\n",
    "\n",
    "CS4376.002"
   ]
  },
  {
   "cell_type": "code",
   "execution_count": 88,
   "metadata": {
    "_cell_guid": "b1076dfc-b9ad-4769-8c92-a6c4dae69d19",
    "_uuid": "8f2839f25d086af736a60e9eeb907d3b93b6e0e5",
    "execution": {
     "iopub.execute_input": "2023-04-22T23:43:14.062688Z",
     "iopub.status.busy": "2023-04-22T23:43:14.062294Z",
     "iopub.status.idle": "2023-04-22T23:43:14.091173Z",
     "shell.execute_reply": "2023-04-22T23:43:14.090166Z",
     "shell.execute_reply.started": "2023-04-22T23:43:14.062653Z"
    }
   },
   "outputs": [
    {
     "name": "stdout",
     "output_type": "stream",
     "text": [
      "/kaggle/input/news-headlines-dataset-for-sarcasm-detection/Sarcasm_Headlines_Dataset_v2.json\n",
      "/kaggle/input/news-headlines-dataset-for-sarcasm-detection/Sarcasm_Headlines_Dataset.json\n"
     ]
    }
   ],
   "source": [
    "import numpy as np # linear algebra\n",
    "import pandas as pd # data processing, CSV file I/O (e.g. pd.read_csv)\n",
    "\n",
    "import tensorflow as tf\n",
    "from tensorflow.keras import layers, models, preprocessing\n",
    "from sklearn.model_selection import train_test_split\n",
    "from sklearn.metrics import classification_report\n",
    "\n",
    "import matplotlib.pyplot as plt\n",
    "\n",
    "import os\n",
    "from pathlib import Path\n",
    "\n",
    "#code that came with kaggle\n",
    "for dirname, _, filenames in os.walk('/kaggle/input'):\n",
    "    for filename in filenames:\n",
    "        print(os.path.join(dirname, filename))"
   ]
  },
  {
   "cell_type": "markdown",
   "metadata": {},
   "source": [
    "# Sarcasm Headline Dataset\n",
    "\n",
    "This sarcasm dataset takes headlines from the Onion (sarcastic) and the Huffington Post (serious) to determine whether a headline is sarcastic or not. The model must be able to predict between sarcastic and serious headlines, although I figure that it will veer more towards being able to predict the writing styles of the two news companies.\n",
    "\n",
    "Citation:\n",
    "1. Misra, Rishabh and Prahal Arora. \"Sarcasm Detection using News Headlines Dataset.\" AI Open (2023).\n",
    "2. Misra, Rishabh and Jigyasa Grover. \"Sculpting Data for ML: The first act of Machine Learning.\" ISBN 9798585463570 (2021)."
   ]
  },
  {
   "cell_type": "code",
   "execution_count": 89,
   "metadata": {
    "execution": {
     "iopub.execute_input": "2023-04-22T23:43:14.092764Z",
     "iopub.status.busy": "2023-04-22T23:43:14.092454Z",
     "iopub.status.idle": "2023-04-22T23:43:14.246251Z",
     "shell.execute_reply": "2023-04-22T23:43:14.245018Z",
     "shell.execute_reply.started": "2023-04-22T23:43:14.092734Z"
    }
   },
   "outputs": [
    {
     "name": "stdout",
     "output_type": "stream",
     "text": [
      "                                                headline  is_sarcastic\n",
      "0      thirtysomething scientists unveil doomsday clo...             1\n",
      "1      dem rep. totally nails why congress is falling...             0\n",
      "2      eat your veggies: 9 deliciously different recipes             0\n",
      "3      inclement weather prevents liar from getting t...             1\n",
      "4      mother comes pretty close to using word 'strea...             1\n",
      "...                                                  ...           ...\n",
      "28614       jews to celebrate rosh hashasha or something             1\n",
      "28615  internal affairs investigator disappointed con...             1\n",
      "28616  the most beautiful acceptance speech this week...             0\n",
      "28617  mars probe destroyed by orbiting spielberg-gat...             1\n",
      "28618                 dad clarifies this not a food stop             1\n",
      "\n",
      "[28619 rows x 2 columns]\n"
     ]
    }
   ],
   "source": [
    "#read in json file using pandas\n",
    "dataset_path = Path(\"/kaggle/input/news-headlines-dataset-for-sarcasm-detection/Sarcasm_Headlines_Dataset_v2.json\")\n",
    "\n",
    "json_df = pd.read_json(dataset_path, lines= True)\n",
    "dataset = json_df[[\"headline\", \"is_sarcastic\"]]\n",
    "print(dataset)"
   ]
  },
  {
   "cell_type": "code",
   "execution_count": 90,
   "metadata": {
    "execution": {
     "iopub.execute_input": "2023-04-22T23:43:14.248686Z",
     "iopub.status.busy": "2023-04-22T23:43:14.248206Z",
     "iopub.status.idle": "2023-04-22T23:43:14.453566Z",
     "shell.execute_reply": "2023-04-22T23:43:14.452289Z",
     "shell.execute_reply.started": "2023-04-22T23:43:14.248648Z"
    }
   },
   "outputs": [
    {
     "data": {
      "text/plain": [
       "<AxesSubplot:>"
      ]
     },
     "execution_count": 90,
     "metadata": {},
     "output_type": "execute_result"
    },
    {
     "data": {
      "image/png": "[encoded data removed]",
      "text/plain": [
       "<Figure size 640x480 with 1 Axes>"
      ]
     },
     "metadata": {},
     "output_type": "display_data"
    }
   ],
   "source": [
    "dataset['is_sarcastic'].value_counts().plot(kind='bar', color = [\"b\",'g'])"
   ]
  },
  {
   "cell_type": "code",
   "execution_count": 91,
   "metadata": {
    "execution": {
     "iopub.execute_input": "2023-04-22T23:43:14.455408Z",
     "iopub.status.busy": "2023-04-22T23:43:14.455044Z",
     "iopub.status.idle": "2023-04-22T23:43:14.474591Z",
     "shell.execute_reply": "2023-04-22T23:43:14.472998Z",
     "shell.execute_reply.started": "2023-04-22T23:43:14.455370Z"
    }
   },
   "outputs": [
    {
     "name": "stdout",
     "output_type": "stream",
     "text": [
      "(17171,)\n",
      "(5724,)\n",
      "(5724,)\n"
     ]
    }
   ],
   "source": [
    "#divide into train/valid/test\n",
    "train_split = 0.8\n",
    "test_split = 0.2\n",
    "#validation will be 25% of training dataset, or 20% of whole dataset\n",
    "valid_split = 0.25\n",
    "\n",
    "\n",
    "x_train, x_test, y_train, y_test = train_test_split(dataset.headline, dataset.is_sarcastic, test_size= test_split, train_size= train_split, random_state= 1234)\n",
    "x_train, x_valid, y_train, y_valid = train_test_split(x_train, y_train, test_size= valid_split, train_size= 1-valid_split, random_state= 1234)\n",
    "\n",
    "print(x_train.shape)\n",
    "print(x_valid.shape)\n",
    "print(x_test.shape)"
   ]
  },
  {
   "cell_type": "code",
   "execution_count": 92,
   "metadata": {
    "execution": {
     "iopub.execute_input": "2023-04-22T23:43:14.477756Z",
     "iopub.status.busy": "2023-04-22T23:43:14.477391Z",
     "iopub.status.idle": "2023-04-22T23:43:15.259487Z",
     "shell.execute_reply": "2023-04-22T23:43:15.258193Z",
     "shell.execute_reply.started": "2023-04-22T23:43:14.477720Z"
    }
   },
   "outputs": [],
   "source": [
    "#articles headlines are expected to have higher diversity of speech\n",
    "text_vect_layer = tf.keras.layers.TextVectorization(\n",
    "    max_tokens = 10000,\n",
    "    output_mode = 'int',\n",
    "    output_sequence_length=50\n",
    ")\n",
    "text_vect_layer.adapt(x_train)"
   ]
  },
  {
   "cell_type": "markdown",
   "metadata": {},
   "source": [
    "# Simple Sequential Model\n",
    "\n",
    "The simple sequential did not perform very well, even after being given many different variations of dense neural layers. I tried using different activation functions, but that did not seem to have a significant effect. This model seems to be the stepping stone between ML neural networks and the deep learnign models we've discussed earlier."
   ]
  },
  {
   "cell_type": "code",
   "execution_count": 120,
   "metadata": {
    "execution": {
     "iopub.execute_input": "2023-04-22T23:57:31.427887Z",
     "iopub.status.busy": "2023-04-22T23:57:31.427433Z",
     "iopub.status.idle": "2023-04-22T23:57:31.537484Z",
     "shell.execute_reply": "2023-04-22T23:57:31.536118Z",
     "shell.execute_reply.started": "2023-04-22T23:57:31.427845Z"
    }
   },
   "outputs": [
    {
     "name": "stdout",
     "output_type": "stream",
     "text": [
      "Model: \"sequential_29\"\n",
      "_________________________________________________________________\n",
      " Layer (type)                Output Shape              Param #   \n",
      "=================================================================\n",
      " text_vectorization_3 (TextV  (None, 50)               0         \n",
      " ectorization)                                                   \n",
      "                                                                 \n",
      " dense_42 (Dense)            (None, 30)                1530      \n",
      "                                                                 \n",
      " dense_43 (Dense)            (None, 30)                930       \n",
      "                                                                 \n",
      " dense_44 (Dense)            (None, 1)                 31        \n",
      "                                                                 \n",
      "=================================================================\n",
      "Total params: 2,491\n",
      "Trainable params: 2,491\n",
      "Non-trainable params: 0\n",
      "_________________________________________________________________\n"
     ]
    }
   ],
   "source": [
    "seq_model = models.Sequential()\n",
    "seq_model.add(tf.keras.Input(shape=(1,), dtype=tf.string))\n",
    "seq_model.add(text_vect_layer)\n",
    "seq_model.add(layers.Dense(30, activation='relu'))\n",
    "seq_model.add(layers.Dense(30, activation='relu'))\n",
    "seq_model.add(layers.Dense(1, activation='sigmoid'))\n",
    "\n",
    "seq_model.summary()\n",
    "\n",
    "seq_model.compile(\n",
    "    optimizer = 'adam',\n",
    "    loss = \"binary_crossentropy\",\n",
    "    metrics=['accuracy']\n",
    ")"
   ]
  },
  {
   "cell_type": "code",
   "execution_count": 121,
   "metadata": {
    "execution": {
     "iopub.execute_input": "2023-04-22T23:57:34.090739Z",
     "iopub.status.busy": "2023-04-22T23:57:34.089300Z",
     "iopub.status.idle": "2023-04-22T23:57:38.691931Z",
     "shell.execute_reply": "2023-04-22T23:57:38.690658Z",
     "shell.execute_reply.started": "2023-04-22T23:57:34.090672Z"
    }
   },
   "outputs": [
    {
     "name": "stdout",
     "output_type": "stream",
     "text": [
      "Epoch 1/10\n",
      "68/68 [==============================] - 1s 8ms/step - loss: 110.4009 - accuracy: 0.5004 - val_loss: 35.0019 - val_accuracy: 0.5262\n",
      "Epoch 2/10\n",
      "68/68 [==============================] - 0s 5ms/step - loss: 30.9152 - accuracy: 0.5239 - val_loss: 23.0225 - val_accuracy: 0.5143\n",
      "Epoch 3/10\n",
      "68/68 [==============================] - 0s 6ms/step - loss: 21.9473 - accuracy: 0.5215 - val_loss: 18.2069 - val_accuracy: 0.5101\n",
      "Epoch 4/10\n",
      "68/68 [==============================] - 0s 5ms/step - loss: 17.5716 - accuracy: 0.5247 - val_loss: 15.1931 - val_accuracy: 0.5147\n",
      "Epoch 5/10\n",
      "68/68 [==============================] - 0s 4ms/step - loss: 14.6262 - accuracy: 0.5275 - val_loss: 13.1573 - val_accuracy: 0.5203\n",
      "Epoch 6/10\n",
      "68/68 [==============================] - 0s 4ms/step - loss: 12.1413 - accuracy: 0.5304 - val_loss: 11.1731 - val_accuracy: 0.5114\n",
      "Epoch 7/10\n",
      "68/68 [==============================] - 0s 5ms/step - loss: 10.3357 - accuracy: 0.5292 - val_loss: 9.3746 - val_accuracy: 0.5236\n",
      "Epoch 8/10\n",
      "68/68 [==============================] - 0s 5ms/step - loss: 9.0609 - accuracy: 0.5339 - val_loss: 8.4005 - val_accuracy: 0.5245\n",
      "Epoch 9/10\n",
      "68/68 [==============================] - 0s 6ms/step - loss: 7.9575 - accuracy: 0.5346 - val_loss: 7.3633 - val_accuracy: 0.5327\n",
      "Epoch 10/10\n",
      "68/68 [==============================] - 0s 4ms/step - loss: 7.0928 - accuracy: 0.5366 - val_loss: 6.9588 - val_accuracy: 0.5280\n"
     ]
    }
   ],
   "source": [
    "history = seq_model.fit(\n",
    "    x_train,\n",
    "    y_train,\n",
    "    epochs = 10,\n",
    "    batch_size = 256,\n",
    "    validation_data=((x_valid, y_valid))\n",
    ")"
   ]
  },
  {
   "cell_type": "code",
   "execution_count": 115,
   "metadata": {
    "execution": {
     "iopub.execute_input": "2023-04-22T23:56:33.525230Z",
     "iopub.status.busy": "2023-04-22T23:56:33.523924Z",
     "iopub.status.idle": "2023-04-22T23:56:34.300364Z",
     "shell.execute_reply": "2023-04-22T23:56:34.298851Z",
     "shell.execute_reply.started": "2023-04-22T23:56:33.525183Z"
    }
   },
   "outputs": [
    {
     "name": "stdout",
     "output_type": "stream",
     "text": [
      "179/179 [==============================] - 0s 2ms/step\n"
     ]
    }
   ],
   "source": [
    "#predict on test data\n",
    "pred = seq_model.predict(x_test)"
   ]
  },
  {
   "cell_type": "code",
   "execution_count": 116,
   "metadata": {
    "execution": {
     "iopub.execute_input": "2023-04-22T23:56:35.635205Z",
     "iopub.status.busy": "2023-04-22T23:56:35.633954Z",
     "iopub.status.idle": "2023-04-22T23:56:35.659353Z",
     "shell.execute_reply": "2023-04-22T23:56:35.657926Z",
     "shell.execute_reply.started": "2023-04-22T23:56:35.635144Z"
    }
   },
   "outputs": [
    {
     "name": "stdout",
     "output_type": "stream",
     "text": [
      "[[1.0000000e+00]\n",
      " [6.9303697e-01]\n",
      " [9.9301457e-01]\n",
      " [1.0000000e+00]\n",
      " [1.0534343e-05]\n",
      " [9.8170125e-01]\n",
      " [1.0000000e+00]\n",
      " [9.4150776e-01]\n",
      " [1.0000000e+00]\n",
      " [6.7488298e-05]]\n",
      "[[1]\n",
      " [1]\n",
      " [1]\n",
      " [1]\n",
      " [0]\n",
      " [1]\n",
      " [1]\n",
      " [1]\n",
      " [1]\n",
      " [0]]\n",
      "              precision    recall  f1-score   support\n",
      "\n",
      "           0       0.55      0.51      0.53      3035\n",
      "           1       0.49      0.52      0.51      2689\n",
      "\n",
      "    accuracy                           0.52      5724\n",
      "   macro avg       0.52      0.52      0.52      5724\n",
      "weighted avg       0.52      0.52      0.52      5724\n",
      "\n"
     ]
    }
   ],
   "source": [
    "bool_pred = np.where(pred < 0.5, 0, 1)\n",
    "print(pred[:10])\n",
    "print(bool_pred[:10])\n",
    "\n",
    "print(classification_report(y_test, bool_pred))"
   ]
  },
  {
   "cell_type": "markdown",
   "metadata": {},
   "source": [
    "# Convolutional Neural Network\n",
    "\n",
    "I've only ever used CNNs for things like images, so I was curious to see how a 1D CNN works.\n",
    "\n",
    "Something interesting is that the test accuracy was near 100%, while the validation and test accuracy were very nearly the same at ~80%, showing an example of overfitting. I am surprised that nearly any CNN model I threw the dataset at was able to get a good starting accuracy, especially comparing it to other neural networks, which require a decent amount of fine tuning before getting good results.\n",
    "\n",
    "I think I would have to read up more on how to choose filter/kernel size so that I can design better models ratehr than just doing trial-and-error."
   ]
  },
  {
   "cell_type": "code",
   "execution_count": 97,
   "metadata": {
    "execution": {
     "iopub.execute_input": "2023-04-22T23:43:23.272232Z",
     "iopub.status.busy": "2023-04-22T23:43:23.271752Z",
     "iopub.status.idle": "2023-04-22T23:43:23.427396Z",
     "shell.execute_reply": "2023-04-22T23:43:23.425990Z",
     "shell.execute_reply.started": "2023-04-22T23:43:23.272189Z"
    }
   },
   "outputs": [
    {
     "name": "stdout",
     "output_type": "stream",
     "text": [
      "Model: \"sequential_21\"\n",
      "_________________________________________________________________\n",
      " Layer (type)                Output Shape              Param #   \n",
      "=================================================================\n",
      " text_vectorization_3 (TextV  (None, 50)               0         \n",
      " ectorization)                                                   \n",
      "                                                                 \n",
      " embedding_17 (Embedding)    (None, 50, 64)            640000    \n",
      "                                                                 \n",
      " conv1d_34 (Conv1D)          (None, 44, 64)            28736     \n",
      "                                                                 \n",
      " max_pooling1d_31 (MaxPoolin  (None, 8, 64)            0         \n",
      " g1D)                                                            \n",
      "                                                                 \n",
      " conv1d_35 (Conv1D)          (None, 6, 32)             6176      \n",
      "                                                                 \n",
      " max_pooling1d_32 (MaxPoolin  (None, 1, 32)            0         \n",
      " g1D)                                                            \n",
      "                                                                 \n",
      " global_max_pooling1d_10 (Gl  (None, 32)               0         \n",
      " obalMaxPooling1D)                                               \n",
      "                                                                 \n",
      " dense_26 (Dense)            (None, 1)                 33        \n",
      "                                                                 \n",
      "=================================================================\n",
      "Total params: 674,945\n",
      "Trainable params: 674,945\n",
      "Non-trainable params: 0\n",
      "_________________________________________________________________\n"
     ]
    }
   ],
   "source": [
    "cnn_model = models.Sequential()\n",
    "cnn_model.add(tf.keras.Input(shape=(1,), dtype=tf.string))\n",
    "cnn_model.add(text_vect_layer)\n",
    "#10000 vocab size and 50 input length\n",
    "cnn_model.add(layers.Embedding(10000,64,input_length = 50))\n",
    "cnn_model.add(layers.Conv1D(64,7, activation = 'relu'))\n",
    "cnn_model.add(layers.MaxPooling1D(5))\n",
    "cnn_model.add(layers.Conv1D(32,3, activation = 'relu'))\n",
    "cnn_model.add(layers.MaxPooling1D(5))\n",
    "cnn_model.add(layers.GlobalMaxPooling1D())\n",
    "cnn_model.add(layers.Dense(1))\n",
    "cnn_model.summary()"
   ]
  },
  {
   "cell_type": "code",
   "execution_count": 98,
   "metadata": {
    "execution": {
     "iopub.execute_input": "2023-04-22T23:43:23.433523Z",
     "iopub.status.busy": "2023-04-22T23:43:23.433005Z",
     "iopub.status.idle": "2023-04-22T23:43:23.446822Z",
     "shell.execute_reply": "2023-04-22T23:43:23.445722Z",
     "shell.execute_reply.started": "2023-04-22T23:43:23.433469Z"
    }
   },
   "outputs": [],
   "source": [
    "#model definition\n",
    "cnn_model.compile(\n",
    "    optimizer = \"adam\",\n",
    "    loss=\"binary_crossentropy\",\n",
    "    metrics= ['accuracy']\n",
    ")\n"
   ]
  },
  {
   "cell_type": "code",
   "execution_count": 99,
   "metadata": {
    "execution": {
     "iopub.execute_input": "2023-04-22T23:43:23.448561Z",
     "iopub.status.busy": "2023-04-22T23:43:23.448199Z",
     "iopub.status.idle": "2023-04-22T23:44:23.323288Z",
     "shell.execute_reply": "2023-04-22T23:44:23.321916Z",
     "shell.execute_reply.started": "2023-04-22T23:43:23.448523Z"
    }
   },
   "outputs": [
    {
     "name": "stdout",
     "output_type": "stream",
     "text": [
      "Epoch 1/20\n",
      "68/68 [==============================] - 5s 50ms/step - loss: 0.7903 - accuracy: 0.5556 - val_loss: 0.6822 - val_accuracy: 0.5704\n",
      "Epoch 2/20\n",
      "68/68 [==============================] - 3s 41ms/step - loss: 0.6502 - accuracy: 0.7212 - val_loss: 0.6377 - val_accuracy: 0.7121\n",
      "Epoch 3/20\n",
      "68/68 [==============================] - 3s 42ms/step - loss: 0.5124 - accuracy: 0.8401 - val_loss: 0.4888 - val_accuracy: 0.7874\n",
      "Epoch 4/20\n",
      "68/68 [==============================] - 3s 43ms/step - loss: 0.3006 - accuracy: 0.9033 - val_loss: 0.5187 - val_accuracy: 0.8176\n",
      "Epoch 5/20\n",
      "68/68 [==============================] - 3s 41ms/step - loss: 0.1725 - accuracy: 0.9518 - val_loss: 0.5863 - val_accuracy: 0.8253\n",
      "Epoch 6/20\n",
      "68/68 [==============================] - 3s 41ms/step - loss: 0.1104 - accuracy: 0.9777 - val_loss: 0.8005 - val_accuracy: 0.8249\n",
      "Epoch 7/20\n",
      "68/68 [==============================] - 3s 42ms/step - loss: 0.0854 - accuracy: 0.9848 - val_loss: 0.8318 - val_accuracy: 0.8277\n",
      "Epoch 8/20\n",
      "68/68 [==============================] - 3s 43ms/step - loss: 0.0608 - accuracy: 0.9920 - val_loss: 0.8836 - val_accuracy: 0.8305\n",
      "Epoch 9/20\n",
      "68/68 [==============================] - 3s 41ms/step - loss: 0.0500 - accuracy: 0.9939 - val_loss: 0.9395 - val_accuracy: 0.8274\n",
      "Epoch 10/20\n",
      "68/68 [==============================] - 3s 42ms/step - loss: 0.0458 - accuracy: 0.9951 - val_loss: 0.9523 - val_accuracy: 0.8248\n",
      "Epoch 11/20\n",
      "68/68 [==============================] - 3s 41ms/step - loss: 0.0416 - accuracy: 0.9959 - val_loss: 0.9817 - val_accuracy: 0.8248\n",
      "Epoch 12/20\n",
      "68/68 [==============================] - 3s 47ms/step - loss: 0.0398 - accuracy: 0.9964 - val_loss: 0.9901 - val_accuracy: 0.8248\n",
      "Epoch 13/20\n",
      "68/68 [==============================] - 3s 42ms/step - loss: 0.0382 - accuracy: 0.9967 - val_loss: 1.0106 - val_accuracy: 0.8248\n",
      "Epoch 14/20\n",
      "68/68 [==============================] - 3s 41ms/step - loss: 0.0375 - accuracy: 0.9970 - val_loss: 1.0629 - val_accuracy: 0.8258\n",
      "Epoch 15/20\n",
      "68/68 [==============================] - 3s 41ms/step - loss: 0.0369 - accuracy: 0.9971 - val_loss: 1.0742 - val_accuracy: 0.8258\n",
      "Epoch 16/20\n",
      "68/68 [==============================] - 3s 43ms/step - loss: 0.0365 - accuracy: 0.9973 - val_loss: 1.0815 - val_accuracy: 0.8272\n",
      "Epoch 17/20\n",
      "68/68 [==============================] - 3s 41ms/step - loss: 0.0363 - accuracy: 0.9973 - val_loss: 1.1005 - val_accuracy: 0.8274\n",
      "Epoch 18/20\n",
      "68/68 [==============================] - 3s 41ms/step - loss: 0.0361 - accuracy: 0.9973 - val_loss: 1.1039 - val_accuracy: 0.8283\n",
      "Epoch 19/20\n",
      "68/68 [==============================] - 3s 42ms/step - loss: 0.0359 - accuracy: 0.9973 - val_loss: 1.1090 - val_accuracy: 0.8272\n",
      "Epoch 20/20\n",
      "68/68 [==============================] - 3s 42ms/step - loss: 0.0358 - accuracy: 0.9973 - val_loss: 1.1325 - val_accuracy: 0.8276\n"
     ]
    }
   ],
   "source": [
    "#training the model\n",
    "history = cnn_model.fit(\n",
    "    x_train,\n",
    "    y_train,\n",
    "    epochs = 20,\n",
    "    batch_size = 256,\n",
    "    validation_data=((x_valid, y_valid))\n",
    ")"
   ]
  },
  {
   "cell_type": "code",
   "execution_count": 100,
   "metadata": {
    "execution": {
     "iopub.execute_input": "2023-04-22T23:44:23.325527Z",
     "iopub.status.busy": "2023-04-22T23:44:23.325179Z",
     "iopub.status.idle": "2023-04-22T23:44:23.548742Z",
     "shell.execute_reply": "2023-04-22T23:44:23.547407Z",
     "shell.execute_reply.started": "2023-04-22T23:44:23.325493Z"
    }
   },
   "outputs": [
    {
     "data": {
      "image/png": "[encoded data removed]",
      "text/plain": [
       "<Figure size 640x480 with 1 Axes>"
      ]
     },
     "metadata": {},
     "output_type": "display_data"
    }
   ],
   "source": [
    "plt.plot(history.history['accuracy'])\n",
    "plt.plot(history.history['val_accuracy'])\n",
    "plt.plot(history.history['loss'])\n",
    "plt.title(\"Training Results\")\n",
    "plt.xlabel('epochs')\n",
    "plt.xticks(np.arange(0, 20, 2))\n",
    "plt.legend(['train_acc', 'val_acc', 'loss'], loc = 'lower left')\n",
    "\n",
    "plt.show()"
   ]
  },
  {
   "cell_type": "code",
   "execution_count": 101,
   "metadata": {
    "execution": {
     "iopub.execute_input": "2023-04-22T23:44:23.550486Z",
     "iopub.status.busy": "2023-04-22T23:44:23.550155Z",
     "iopub.status.idle": "2023-04-22T23:44:24.366392Z",
     "shell.execute_reply": "2023-04-22T23:44:24.365072Z",
     "shell.execute_reply.started": "2023-04-22T23:44:23.550453Z"
    }
   },
   "outputs": [
    {
     "name": "stdout",
     "output_type": "stream",
     "text": [
      "179/179 [==============================] - 1s 3ms/step\n"
     ]
    }
   ],
   "source": [
    "pred = cnn_model.predict(x_test)"
   ]
  },
  {
   "cell_type": "code",
   "execution_count": 102,
   "metadata": {
    "execution": {
     "iopub.execute_input": "2023-04-22T23:44:24.368847Z",
     "iopub.status.busy": "2023-04-22T23:44:24.368458Z",
     "iopub.status.idle": "2023-04-22T23:44:24.391424Z",
     "shell.execute_reply": "2023-04-22T23:44:24.389792Z",
     "shell.execute_reply.started": "2023-04-22T23:44:24.368809Z"
    }
   },
   "outputs": [
    {
     "name": "stdout",
     "output_type": "stream",
     "text": [
      "(5724, 1)\n",
      "(5724, 1)\n",
      "(5724, 1)\n",
      "              precision    recall  f1-score   support\n",
      "\n",
      "           0       0.84      0.84      0.84      3035\n",
      "           1       0.82      0.82      0.82      2689\n",
      "\n",
      "    accuracy                           0.83      5724\n",
      "   macro avg       0.83      0.83      0.83      5724\n",
      "weighted avg       0.83      0.83      0.83      5724\n",
      "\n"
     ]
    }
   ],
   "source": [
    "print(pred.shape)\n",
    "bool_pred = np.where(pred < 0.5, 0, 1)\n",
    "new_bool_pred = bool_pred.reshape((y_test.shape[0],1))\n",
    "new_y_test = y_test.values.reshape((y_test.shape[0],1))\n",
    "print(new_bool_pred.shape)\n",
    "print(new_y_test.shape)\n",
    "print(classification_report(new_y_test, new_bool_pred))"
   ]
  },
  {
   "cell_type": "markdown",
   "metadata": {},
   "source": [
    "# Trying out different embedding approaches\n",
    "\n",
    "Trying out a 128, 32, and 16 dimensional vector for embedding. They do not seem to produce noticeably better results. The model seems to overfit either way and have 80% accuracy for the validation and test sets."
   ]
  },
  {
   "cell_type": "code",
   "execution_count": 103,
   "metadata": {
    "execution": {
     "iopub.execute_input": "2023-04-22T23:44:24.393701Z",
     "iopub.status.busy": "2023-04-22T23:44:24.393218Z",
     "iopub.status.idle": "2023-04-22T23:45:48.784204Z",
     "shell.execute_reply": "2023-04-22T23:45:48.782768Z",
     "shell.execute_reply.started": "2023-04-22T23:44:24.393651Z"
    }
   },
   "outputs": [
    {
     "name": "stdout",
     "output_type": "stream",
     "text": [
      "Model: \"sequential_22\"\n",
      "_________________________________________________________________\n",
      " Layer (type)                Output Shape              Param #   \n",
      "=================================================================\n",
      " text_vectorization_3 (TextV  (None, 50)               0         \n",
      " ectorization)                                                   \n",
      "                                                                 \n",
      " embedding_18 (Embedding)    (None, 50, 128)           1280000   \n",
      "                                                                 \n",
      " conv1d_36 (Conv1D)          (None, 44, 64)            57408     \n",
      "                                                                 \n",
      " max_pooling1d_33 (MaxPoolin  (None, 8, 64)            0         \n",
      " g1D)                                                            \n",
      "                                                                 \n",
      " conv1d_37 (Conv1D)          (None, 6, 32)             6176      \n",
      "                                                                 \n",
      " max_pooling1d_34 (MaxPoolin  (None, 1, 32)            0         \n",
      " g1D)                                                            \n",
      "                                                                 \n",
      " global_max_pooling1d_11 (Gl  (None, 32)               0         \n",
      " obalMaxPooling1D)                                               \n",
      "                                                                 \n",
      " dense_27 (Dense)            (None, 1)                 33        \n",
      "                                                                 \n",
      "=================================================================\n",
      "Total params: 1,343,617\n",
      "Trainable params: 1,343,617\n",
      "Non-trainable params: 0\n",
      "_________________________________________________________________\n",
      "Epoch 1/10\n",
      "68/68 [==============================] - 6s 77ms/step - loss: 4.3288 - accuracy: 0.5214 - val_loss: 0.6864 - val_accuracy: 0.5196\n",
      "Epoch 2/10\n",
      "68/68 [==============================] - 5s 70ms/step - loss: 0.5836 - accuracy: 0.7538 - val_loss: 0.4800 - val_accuracy: 0.7802\n",
      "Epoch 3/10\n",
      "68/68 [==============================] - 5s 70ms/step - loss: 0.3244 - accuracy: 0.8789 - val_loss: 0.5268 - val_accuracy: 0.8085\n",
      "Epoch 4/10\n",
      "68/68 [==============================] - 5s 71ms/step - loss: 0.2072 - accuracy: 0.9493 - val_loss: 0.7160 - val_accuracy: 0.8297\n",
      "Epoch 5/10\n",
      "68/68 [==============================] - 5s 70ms/step - loss: 0.1536 - accuracy: 0.9715 - val_loss: 0.8629 - val_accuracy: 0.8265\n",
      "Epoch 6/10\n",
      "68/68 [==============================] - 5s 71ms/step - loss: 0.0923 - accuracy: 0.9864 - val_loss: 0.9990 - val_accuracy: 0.8256\n",
      "Epoch 7/10\n",
      "68/68 [==============================] - 5s 70ms/step - loss: 0.0761 - accuracy: 0.9904 - val_loss: 1.0438 - val_accuracy: 0.8202\n",
      "Epoch 8/10\n",
      "68/68 [==============================] - 5s 77ms/step - loss: 0.0608 - accuracy: 0.9931 - val_loss: 1.0081 - val_accuracy: 0.8211\n",
      "Epoch 9/10\n",
      "68/68 [==============================] - 5s 70ms/step - loss: 0.0498 - accuracy: 0.9951 - val_loss: 1.0436 - val_accuracy: 0.8215\n",
      "Epoch 10/10\n",
      "68/68 [==============================] - 5s 70ms/step - loss: 0.0461 - accuracy: 0.9954 - val_loss: 1.1950 - val_accuracy: 0.8239\n",
      "179/179 [==============================] - 1s 4ms/step\n",
      "              precision    recall  f1-score   support\n",
      "\n",
      "           0       0.84      0.85      0.84      3035\n",
      "           1       0.82      0.82      0.82      2689\n",
      "\n",
      "    accuracy                           0.83      5724\n",
      "   macro avg       0.83      0.83      0.83      5724\n",
      "weighted avg       0.83      0.83      0.83      5724\n",
      "\n"
     ]
    }
   ],
   "source": [
    "#128\n",
    "cnn_model = models.Sequential()\n",
    "cnn_model.add(tf.keras.Input(shape=(1,), dtype=tf.string))\n",
    "cnn_model.add(text_vect_layer)\n",
    "#10000 vocab size and 50 input length\n",
    "cnn_model.add(layers.Embedding(10000,128,input_length = 50))\n",
    "cnn_model.add(layers.Conv1D(64,7, activation = 'relu'))\n",
    "cnn_model.add(layers.MaxPooling1D(5))\n",
    "cnn_model.add(layers.Conv1D(32,3, activation = 'relu'))\n",
    "cnn_model.add(layers.MaxPooling1D(5))\n",
    "cnn_model.add(layers.GlobalMaxPooling1D())\n",
    "cnn_model.add(layers.Dense(1))\n",
    "\n",
    "cnn_model.summary()\n",
    "\n",
    "cnn_model.compile(\n",
    "    optimizer = \"adam\",\n",
    "    loss=\"binary_crossentropy\",\n",
    "    metrics= ['accuracy']\n",
    ")\n",
    "\n",
    "history = cnn_model.fit(\n",
    "    x_train,\n",
    "    y_train,\n",
    "    epochs = 10,\n",
    "    batch_size = 256,\n",
    "    validation_data=((x_valid, y_valid))\n",
    ")\n",
    "\n",
    "pred = cnn_model.predict(x_test)\n",
    "bool_pred = np.where(pred < 0.5, 0, 1)\n",
    "new_bool_pred = bool_pred.reshape((y_test.shape[0],1))\n",
    "new_y_test = y_test.values.reshape((y_test.shape[0],1))\n",
    "print(classification_report(new_y_test, new_bool_pred))"
   ]
  },
  {
   "cell_type": "code",
   "execution_count": 104,
   "metadata": {
    "execution": {
     "iopub.execute_input": "2023-04-22T23:45:48.786147Z",
     "iopub.status.busy": "2023-04-22T23:45:48.785759Z",
     "iopub.status.idle": "2023-04-22T23:46:02.058444Z",
     "shell.execute_reply": "2023-04-22T23:46:02.056977Z",
     "shell.execute_reply.started": "2023-04-22T23:45:48.786104Z"
    }
   },
   "outputs": [
    {
     "name": "stdout",
     "output_type": "stream",
     "text": [
      "Model: \"sequential_23\"\n",
      "_________________________________________________________________\n",
      " Layer (type)                Output Shape              Param #   \n",
      "=================================================================\n",
      " text_vectorization_3 (TextV  (None, 50)               0         \n",
      " ectorization)                                                   \n",
      "                                                                 \n",
      " embedding_19 (Embedding)    (None, 50, 32)            320000    \n",
      "                                                                 \n",
      " conv1d_38 (Conv1D)          (None, 49, 32)            2080      \n",
      "                                                                 \n",
      " max_pooling1d_35 (MaxPoolin  (None, 9, 32)            0         \n",
      " g1D)                                                            \n",
      "                                                                 \n",
      " conv1d_39 (Conv1D)          (None, 8, 16)             1040      \n",
      "                                                                 \n",
      " max_pooling1d_36 (MaxPoolin  (None, 1, 16)            0         \n",
      " g1D)                                                            \n",
      "                                                                 \n",
      " global_max_pooling1d_12 (Gl  (None, 16)               0         \n",
      " obalMaxPooling1D)                                               \n",
      "                                                                 \n",
      " dense_28 (Dense)            (None, 1)                 17        \n",
      "                                                                 \n",
      "=================================================================\n",
      "Total params: 323,137\n",
      "Trainable params: 323,137\n",
      "Non-trainable params: 0\n",
      "_________________________________________________________________\n",
      "Epoch 1/10\n",
      "68/68 [==============================] - 2s 20ms/step - loss: 7.3617 - accuracy: 0.5227 - val_loss: 7.4107 - val_accuracy: 0.5196\n",
      "Epoch 2/10\n",
      "68/68 [==============================] - 1s 16ms/step - loss: 7.3617 - accuracy: 0.5227 - val_loss: 7.4107 - val_accuracy: 0.5196\n",
      "Epoch 3/10\n",
      "68/68 [==============================] - 1s 16ms/step - loss: 7.3617 - accuracy: 0.5227 - val_loss: 7.4107 - val_accuracy: 0.5196\n",
      "Epoch 4/10\n",
      "68/68 [==============================] - 1s 16ms/step - loss: 7.3617 - accuracy: 0.5227 - val_loss: 7.4107 - val_accuracy: 0.5196\n",
      "Epoch 5/10\n",
      "68/68 [==============================] - 1s 16ms/step - loss: 7.3617 - accuracy: 0.5227 - val_loss: 7.4107 - val_accuracy: 0.5196\n",
      "Epoch 6/10\n",
      "68/68 [==============================] - 1s 16ms/step - loss: 7.3617 - accuracy: 0.5227 - val_loss: 7.4107 - val_accuracy: 0.5196\n",
      "Epoch 7/10\n",
      "68/68 [==============================] - 1s 16ms/step - loss: 7.3617 - accuracy: 0.5227 - val_loss: 7.4107 - val_accuracy: 0.5196\n",
      "Epoch 8/10\n",
      "68/68 [==============================] - 1s 16ms/step - loss: 7.3617 - accuracy: 0.5227 - val_loss: 7.4107 - val_accuracy: 0.5196\n",
      "Epoch 9/10\n",
      "68/68 [==============================] - 1s 16ms/step - loss: 7.3617 - accuracy: 0.5227 - val_loss: 7.4107 - val_accuracy: 0.5196\n",
      "Epoch 10/10\n",
      "68/68 [==============================] - 1s 17ms/step - loss: 7.3617 - accuracy: 0.5227 - val_loss: 7.4107 - val_accuracy: 0.5196\n",
      "179/179 [==============================] - 1s 2ms/step\n",
      "              precision    recall  f1-score   support\n",
      "\n",
      "           0       0.53      1.00      0.69      3035\n",
      "           1       0.00      0.00      0.00      2689\n",
      "\n",
      "    accuracy                           0.53      5724\n",
      "   macro avg       0.27      0.50      0.35      5724\n",
      "weighted avg       0.28      0.53      0.37      5724\n",
      "\n"
     ]
    },
    {
     "name": "stderr",
     "output_type": "stream",
     "text": [
      "/opt/conda/lib/python3.7/site-packages/sklearn/metrics/_classification.py:1318: UndefinedMetricWarning: Precision and F-score are ill-defined and being set to 0.0 in labels with no predicted samples. Use `zero_division` parameter to control this behavior.\n",
      "  _warn_prf(average, modifier, msg_start, len(result))\n",
      "/opt/conda/lib/python3.7/site-packages/sklearn/metrics/_classification.py:1318: UndefinedMetricWarning: Precision and F-score are ill-defined and being set to 0.0 in labels with no predicted samples. Use `zero_division` parameter to control this behavior.\n",
      "  _warn_prf(average, modifier, msg_start, len(result))\n",
      "/opt/conda/lib/python3.7/site-packages/sklearn/metrics/_classification.py:1318: UndefinedMetricWarning: Precision and F-score are ill-defined and being set to 0.0 in labels with no predicted samples. Use `zero_division` parameter to control this behavior.\n",
      "  _warn_prf(average, modifier, msg_start, len(result))\n"
     ]
    }
   ],
   "source": [
    "#32\n",
    "cnn_model = models.Sequential()\n",
    "cnn_model.add(tf.keras.Input(shape=(1,), dtype=tf.string))\n",
    "cnn_model.add(text_vect_layer)\n",
    "#10000 vocab size and 50 input length\n",
    "cnn_model.add(layers.Embedding(10000,32,input_length = 50))\n",
    "cnn_model.add(layers.Conv1D(32,2, activation = 'relu'))\n",
    "cnn_model.add(layers.MaxPooling1D(5))\n",
    "cnn_model.add(layers.Conv1D(16,2, activation = 'relu'))\n",
    "cnn_model.add(layers.MaxPooling1D(5))\n",
    "cnn_model.add(layers.GlobalMaxPooling1D())\n",
    "cnn_model.add(layers.Dense(1))\n",
    "\n",
    "cnn_model.summary()\n",
    "\n",
    "cnn_model.compile(\n",
    "    optimizer = \"adam\",\n",
    "    loss=\"binary_crossentropy\",\n",
    "    metrics= ['accuracy']\n",
    ")\n",
    "\n",
    "history = cnn_model.fit(\n",
    "    x_train,\n",
    "    y_train,\n",
    "    epochs = 10,\n",
    "    batch_size = 256,\n",
    "    validation_data=((x_valid, y_valid))\n",
    ")\n",
    "\n",
    "pred = cnn_model.predict(x_test)\n",
    "bool_pred = np.where(pred < 0.5, 0, 1)\n",
    "new_bool_pred = bool_pred.reshape((y_test.shape[0],1))\n",
    "print(classification_report(new_y_test, new_bool_pred))"
   ]
  },
  {
   "cell_type": "code",
   "execution_count": 105,
   "metadata": {
    "execution": {
     "iopub.execute_input": "2023-04-22T23:46:02.061712Z",
     "iopub.status.busy": "2023-04-22T23:46:02.060441Z",
     "iopub.status.idle": "2023-04-22T23:46:19.551467Z",
     "shell.execute_reply": "2023-04-22T23:46:19.550411Z",
     "shell.execute_reply.started": "2023-04-22T23:46:02.061652Z"
    }
   },
   "outputs": [
    {
     "name": "stdout",
     "output_type": "stream",
     "text": [
      "Model: \"sequential_24\"\n",
      "_________________________________________________________________\n",
      " Layer (type)                Output Shape              Param #   \n",
      "=================================================================\n",
      " text_vectorization_3 (TextV  (None, 50)               0         \n",
      " ectorization)                                                   \n",
      "                                                                 \n",
      " embedding_20 (Embedding)    (None, 50, 16)            160000    \n",
      "                                                                 \n",
      " conv1d_40 (Conv1D)          (None, 44, 64)            7232      \n",
      "                                                                 \n",
      " max_pooling1d_37 (MaxPoolin  (None, 8, 64)            0         \n",
      " g1D)                                                            \n",
      "                                                                 \n",
      " conv1d_41 (Conv1D)          (None, 6, 32)             6176      \n",
      "                                                                 \n",
      " max_pooling1d_38 (MaxPoolin  (None, 1, 32)            0         \n",
      " g1D)                                                            \n",
      "                                                                 \n",
      " global_max_pooling1d_13 (Gl  (None, 32)               0         \n",
      " obalMaxPooling1D)                                               \n",
      "                                                                 \n",
      " dense_29 (Dense)            (None, 1)                 33        \n",
      "                                                                 \n",
      "=================================================================\n",
      "Total params: 173,441\n",
      "Trainable params: 173,441\n",
      "Non-trainable params: 0\n",
      "_________________________________________________________________\n",
      "Epoch 1/10\n",
      "68/68 [==============================] - 3s 25ms/step - loss: 0.8474 - accuracy: 0.5506 - val_loss: 0.6712 - val_accuracy: 0.6244\n",
      "Epoch 2/10\n",
      "68/68 [==============================] - 2s 25ms/step - loss: 0.6209 - accuracy: 0.7064 - val_loss: 0.5796 - val_accuracy: 0.6964\n",
      "Epoch 3/10\n",
      "68/68 [==============================] - 2s 22ms/step - loss: 0.4226 - accuracy: 0.8264 - val_loss: 0.4980 - val_accuracy: 0.7956\n",
      "Epoch 4/10\n",
      "68/68 [==============================] - 2s 24ms/step - loss: 0.2765 - accuracy: 0.9037 - val_loss: 0.5727 - val_accuracy: 0.8104\n",
      "Epoch 5/10\n",
      "68/68 [==============================] - 2s 22ms/step - loss: 0.2699 - accuracy: 0.9355 - val_loss: 0.5742 - val_accuracy: 0.8139\n",
      "Epoch 6/10\n",
      "68/68 [==============================] - 1s 21ms/step - loss: 0.1604 - accuracy: 0.9583 - val_loss: 0.7745 - val_accuracy: 0.8124\n",
      "Epoch 7/10\n",
      "68/68 [==============================] - 1s 22ms/step - loss: 0.1157 - accuracy: 0.9730 - val_loss: 0.8664 - val_accuracy: 0.8127\n",
      "Epoch 8/10\n",
      "68/68 [==============================] - 1s 21ms/step - loss: 0.0904 - accuracy: 0.9812 - val_loss: 1.0608 - val_accuracy: 0.8115\n",
      "Epoch 9/10\n",
      "68/68 [==============================] - 1s 22ms/step - loss: 0.0719 - accuracy: 0.9878 - val_loss: 1.2308 - val_accuracy: 0.8082\n",
      "Epoch 10/10\n",
      "68/68 [==============================] - 1s 22ms/step - loss: 0.0615 - accuracy: 0.9907 - val_loss: 1.2759 - val_accuracy: 0.8036\n",
      "179/179 [==============================] - 1s 3ms/step\n",
      "              precision    recall  f1-score   support\n",
      "\n",
      "           0       0.81      0.83      0.82      3035\n",
      "           1       0.80      0.78      0.79      2689\n",
      "\n",
      "    accuracy                           0.80      5724\n",
      "   macro avg       0.80      0.80      0.80      5724\n",
      "weighted avg       0.80      0.80      0.80      5724\n",
      "\n"
     ]
    }
   ],
   "source": [
    "#16\n",
    "cnn_model = models.Sequential()\n",
    "cnn_model.add(tf.keras.Input(shape=(1,), dtype=tf.string))\n",
    "cnn_model.add(text_vect_layer)\n",
    "#10000 vocab size and 50 input length\n",
    "cnn_model.add(layers.Embedding(10000,16,input_length = 50))\n",
    "cnn_model.add(layers.Conv1D(64,7, activation = 'relu'))\n",
    "cnn_model.add(layers.MaxPooling1D(5))\n",
    "cnn_model.add(layers.Conv1D(32,3, activation = 'relu'))\n",
    "cnn_model.add(layers.MaxPooling1D(5))\n",
    "cnn_model.add(layers.GlobalMaxPooling1D())\n",
    "cnn_model.add(layers.Dense(1))\n",
    "\n",
    "cnn_model.summary()\n",
    "\n",
    "cnn_model.compile(\n",
    "    optimizer = \"adam\",\n",
    "    loss=\"binary_crossentropy\",\n",
    "    metrics= ['accuracy']\n",
    ")\n",
    "\n",
    "history = cnn_model.fit(\n",
    "    x_train,\n",
    "    y_train,\n",
    "    epochs = 10,\n",
    "    batch_size = 256,\n",
    "    validation_data=((x_valid, y_valid))\n",
    ")\n",
    "\n",
    "pred = cnn_model.predict(x_test)\n",
    "bool_pred = np.where(pred < 0.5, 0, 1)\n",
    "new_bool_pred = bool_pred.reshape((y_test.shape[0],1))\n",
    "print(classification_report(new_y_test, new_bool_pred))"
   ]
  },
  {
   "cell_type": "markdown",
   "metadata": {},
   "source": [
    "# Trying out the model on current headlines\n",
    "The Onion is not the only source of news satire nowadays and the Huffington Post is not the only source of news. Here I tested some headlines from various sarcastic and serious news networks.\n",
    "\n",
    "It seems that this model is not very good at determining satire from other news websites. This should be improved by adding more headlines from different sites, thereby incorporating more writing styles into the model."
   ]
  },
  {
   "cell_type": "code",
   "execution_count": 106,
   "metadata": {
    "execution": {
     "iopub.execute_input": "2023-04-22T23:46:19.554351Z",
     "iopub.status.busy": "2023-04-22T23:46:19.552984Z",
     "iopub.status.idle": "2023-04-22T23:46:19.752964Z",
     "shell.execute_reply": "2023-04-22T23:46:19.751440Z",
     "shell.execute_reply.started": "2023-04-22T23:46:19.554296Z"
    }
   },
   "outputs": [
    {
     "name": "stdout",
     "output_type": "stream",
     "text": [
      "1/1 [==============================] - 0s 45ms/step\n",
      "[[-0.08028802]\n",
      " [ 3.2397485 ]\n",
      " [-0.05846712]]\n",
      "1/1 [==============================] - 0s 48ms/step\n",
      "[[ 0.04883295]\n",
      " [ 1.5674242 ]\n",
      " [-0.23062049]]\n"
     ]
    }
   ],
   "source": [
    "serious_headlines = [\n",
    "    [\"sudan fighting: army says foreign nationals to be evacuated\"],#bbc\n",
    "    [\"oklahoma man saves wife from being sucked away by tornado\"],#bbc\n",
    "    [\"nfl suspensions expose the league's problem with sports gambling\"] #NYT\n",
    "]\n",
    "\n",
    "satire_headlines = [\n",
    "    [\"not just for crimes: the 5 most polite acts ever committed in international waters\"], #clickhole\n",
    "    [\"9 names to consider before naming your child aiden\"],#hard times\n",
    "    [\"places you've left your water bottle, and whether you can get it back\"] #the new yorker, satire page\n",
    "]\n",
    "\n",
    "print(cnn_model.predict(serious_headlines))\n",
    "print(cnn_model.predict(satire_headlines))"
   ]
  }
 ],
 "metadata": {
  "kernelspec": {
   "display_name": "Python 3 (ipykernel)",
   "language": "python",
   "name": "python3"
  },
  "language_info": {
   "codemirror_mode": {
    "name": "ipython",
    "version": 3
   },
   "file_extension": ".py",
   "mimetype": "text/x-python",
   "name": "python",
   "nbconvert_exporter": "python",
   "pygments_lexer": "ipython3",
   "version": "3.9.7"
  }
 },
 "nbformat": 4,
 "nbformat_minor": 4
}
